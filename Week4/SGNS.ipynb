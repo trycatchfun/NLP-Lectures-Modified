
{
  "nbformat": 4,
  "nbformat_minor": 0,
  "metadata": {
    "colab": {
      "name": "SGNS.ipynb",
      "provenance": [],
      "collapsed_sections": []
    },
    "kernelspec": {
      "name": "python3",
      "display_name": "Python 3"
    }
  },
  "cells": [
    {
      "cell_type": "markdown",
      "metadata": {
        "id": "JsAbi-i8v74c",
        "colab_type": "text"
      },
      "source": [
        "# **Neural Word Embedding**\n",
        "\n",
        "> **Word2Vec, Continuous Bag of Word (CBOW)**\n",
        "\n",
        "> **Word2Vec, Skip-gram with negative sampling (SGNS)**\n",
        "\n",