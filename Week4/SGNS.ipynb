
{
  "nbformat": 4,
  "nbformat_minor": 0,
  "metadata": {
    "colab": {
      "name": "SGNS.ipynb",
      "provenance": [],
      "collapsed_sections": []
    },
    "kernelspec": {
      "name": "python3",
      "display_name": "Python 3"
    }
  },
  "cells": [
    {
      "cell_type": "markdown",
      "metadata": {
        "id": "JsAbi-i8v74c",
        "colab_type": "text"
      },
      "source": [
        "# **Neural Word Embedding**\n",
        "\n",
        "> **Word2Vec, Continuous Bag of Word (CBOW)**\n",
        "\n",
        "> **Word2Vec, Skip-gram with negative sampling (SGNS)**\n",
        "\n",
        "> **Main key point: Distributional Hypothesis**\n",
        "\n",
        "> Goal: Predict the context words from a given word\n",
        "\n",
        "# **How to implement SGNS Algorithm:**\n",
        "\n",
        "\n",
        "1.   Data preprocessing\n",
        "2.   Hyperparameters\n",
        "3.   Training Data\n",
        "4.   Model Fitting\n",
        "5.   Inference/Prediction the testing samples\n",
        "\n",
        "\n"
      ]
    },
    {
      "cell_type": "markdown",
      "metadata": {
        "colab_type": "text",
        "id": "sT6SltefXAJf"
      },
      "source": [
        "### **Main Class**"
      ]
    },
    {
      "cell_type": "code",
      "metadata": {
        "id": "ZdXqCMgWYYtd",
        "colab_type": "code",
        "colab": {}
      },